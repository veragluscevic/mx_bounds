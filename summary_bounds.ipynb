{
 "cells": [
  {
   "cell_type": "code",
   "execution_count": 1,
   "id": "c8b49f1c",
   "metadata": {},
   "outputs": [
    {
     "data": {
      "image/png": "[encoded data removed]",
      "text/plain": [
       "<Figure size 576x72 with 1 Axes>"
      ]
     },
     "metadata": {
      "needs_background": "light"
     },
     "output_type": "display_data"
    },
    {
     "data": {
      "image/png": "[encoded data removed]",
      "text/plain": [
       "<Figure size 576x72 with 1 Axes>"
      ]
     },
     "metadata": {
      "needs_background": "light"
     },
     "output_type": "display_data"
    }
   ],
   "source": [
    "import numpy as np\n",
    "import matplotlib\n",
    "import matplotlib.pyplot as plt\n",
    "import pandas as pd\n",
    "\n",
    "import seaborn as sns\n",
    "green = sns.light_palette(\"green\")[5]\n",
    "cyan = sns.light_palette(\"turquoise\")[5]\n",
    "blue = sns.light_palette(\"blue\")[5]\n",
    "red = sns.light_palette(\"red\")[5]\n",
    "pink = sns.light_palette(\"magenta\")[5]\n",
    "\n",
    "custom_blues = [\"#99DDFF\",\"#66CCFF\", \"#33BBFF\", \"#00AAFF\", \"#0088CC\", \"#006699\", \"#004466\", \"#000000\"]\n",
    "custom_blues_complement = [\"#FFBB99\", \"#FF9966\", \"#FF7733\", \"#FF5500\", \"#CC4400\", \"#993300\", \"#662200\",\"#000000\"]\n",
    "sns.palplot(custom_blues)\n",
    "sns.palplot(custom_blues_complement)\n",
    "\n"
   ]
  },
  {
   "cell_type": "code",
   "execution_count": 109,
   "id": "6192a114",
   "metadata": {},
   "outputs": [
    {
     "data": {
      "text/html": [
       "<div>\n",
       "<style scoped>\n",
       "    .dataframe tbody tr th:only-of-type {\n",
       "        vertical-align: middle;\n",
       "    }\n",
       "\n",
       "    .dataframe tbody tr th {\n",
       "        vertical-align: top;\n",
       "    }\n",
       "\n",
       "    .dataframe thead th {\n",
       "        text-align: right;\n",
       "    }\n",
       "</style>\n",
       "<table border=\"1\" class=\"dataframe\">\n",
       "  <thead>\n",
       "    <tr style=\"text-align: right;\">\n",
       "      <th></th>\n",
       "      <th>ACT</th>\n",
       "      <th>Planck</th>\n",
       "      <th>ACT+Planck</th>\n",
       "      <th>ACT+low-l</th>\n",
       "      <th>Yp+ACT</th>\n",
       "      <th>Yp+Planck</th>\n",
       "      <th>Yp+ACT+Planck</th>\n",
       "      <th>Yp+ACT+low-l</th>\n",
       "      <th>Yp+YD</th>\n",
       "      <th>Yp+YD+ACT</th>\n",
       "      <th>Yp+YD+Planck</th>\n",
       "      <th>Yp+YD+ACT+Planck</th>\n",
       "      <th>Yp+YD+ACT+low-l</th>\n",
       "    </tr>\n",
       "    <tr>\n",
       "      <th>model</th>\n",
       "      <th></th>\n",
       "      <th></th>\n",
       "      <th></th>\n",
       "      <th></th>\n",
       "      <th></th>\n",
       "      <th></th>\n",
       "      <th></th>\n",
       "      <th></th>\n",
       "      <th></th>\n",
       "      <th></th>\n",
       "      <th></th>\n",
       "      <th></th>\n",
       "      <th></th>\n",
       "    </tr>\n",
       "  </thead>\n",
       "  <tbody>\n",
       "    <tr>\n",
       "      <th>EM_Real</th>\n",
       "      <td>0.00</td>\n",
       "      <td>0.00</td>\n",
       "      <td>0.00</td>\n",
       "      <td>0.0</td>\n",
       "      <td>0.35</td>\n",
       "      <td>0.59</td>\n",
       "      <td>0.38</td>\n",
       "      <td>0.37</td>\n",
       "      <td>0.34</td>\n",
       "      <td>0.41</td>\n",
       "      <td>0.83</td>\n",
       "      <td>0.57</td>\n",
       "      <td>0.49</td>\n",
       "    </tr>\n",
       "    <tr>\n",
       "      <th>EM_Complex</th>\n",
       "      <td>0.00</td>\n",
       "      <td>0.06</td>\n",
       "      <td>0.07</td>\n",
       "      <td>0.0</td>\n",
       "      <td>0.49</td>\n",
       "      <td>2.46</td>\n",
       "      <td>1.41</td>\n",
       "      <td>0.50</td>\n",
       "      <td>0.48</td>\n",
       "      <td>0.58</td>\n",
       "      <td>5.45</td>\n",
       "      <td>3.18</td>\n",
       "      <td>0.86</td>\n",
       "    </tr>\n",
       "    <tr>\n",
       "      <th>EM_Majorana</th>\n",
       "      <td>0.00</td>\n",
       "      <td>0.00</td>\n",
       "      <td>0.00</td>\n",
       "      <td>0.0</td>\n",
       "      <td>0.48</td>\n",
       "      <td>2.21</td>\n",
       "      <td>1.19</td>\n",
       "      <td>0.49</td>\n",
       "      <td>0.47</td>\n",
       "      <td>0.54</td>\n",
       "      <td>4.98</td>\n",
       "      <td>2.10</td>\n",
       "      <td>0.71</td>\n",
       "    </tr>\n",
       "    <tr>\n",
       "      <th>EM_Dirac</th>\n",
       "      <td>0.00</td>\n",
       "      <td>0.30</td>\n",
       "      <td>0.31</td>\n",
       "      <td>0.0</td>\n",
       "      <td>0.88</td>\n",
       "      <td>5.13</td>\n",
       "      <td>3.54</td>\n",
       "      <td>0.92</td>\n",
       "      <td>0.77</td>\n",
       "      <td>1.67</td>\n",
       "      <td>9.59</td>\n",
       "      <td>8.54</td>\n",
       "      <td>2.24</td>\n",
       "    </tr>\n",
       "    <tr>\n",
       "      <th>Nu_Real</th>\n",
       "      <td>6.92</td>\n",
       "      <td>6.72</td>\n",
       "      <td>19.57</td>\n",
       "      <td>100.1</td>\n",
       "      <td>7.53</td>\n",
       "      <td>7.42</td>\n",
       "      <td>19.49</td>\n",
       "      <td>100.10</td>\n",
       "      <td>1.25</td>\n",
       "      <td>10.79</td>\n",
       "      <td>5.75</td>\n",
       "      <td>9.36</td>\n",
       "      <td>100.10</td>\n",
       "    </tr>\n",
       "  </tbody>\n",
       "</table>\n",
       "</div>"
      ],
      "text/plain": [
       "              ACT  Planck  ACT+Planck  ACT+low-l  Yp+ACT  Yp+Planck  \\\n",
       "model                                                                 \n",
       "EM_Real      0.00    0.00        0.00        0.0    0.35       0.59   \n",
       "EM_Complex   0.00    0.06        0.07        0.0    0.49       2.46   \n",
       "EM_Majorana  0.00    0.00        0.00        0.0    0.48       2.21   \n",
       "EM_Dirac     0.00    0.30        0.31        0.0    0.88       5.13   \n",
       "Nu_Real      6.92    6.72       19.57      100.1    7.53       7.42   \n",
       "\n",
       "             Yp+ACT+Planck  Yp+ACT+low-l  Yp+YD  Yp+YD+ACT  Yp+YD+Planck  \\\n",
       "model                                                                      \n",
       "EM_Real               0.38          0.37   0.34       0.41          0.83   \n",
       "EM_Complex            1.41          0.50   0.48       0.58          5.45   \n",
       "EM_Majorana           1.19          0.49   0.47       0.54          4.98   \n",
       "EM_Dirac              3.54          0.92   0.77       1.67          9.59   \n",
       "Nu_Real              19.49        100.10   1.25      10.79          5.75   \n",
       "\n",
       "             Yp+YD+ACT+Planck  Yp+YD+ACT+low-l  \n",
       "model                                           \n",
       "EM_Real                  0.57             0.49  \n",
       "EM_Complex               3.18             0.86  \n",
       "EM_Majorana              2.10             0.71  \n",
       "EM_Dirac                 8.54             2.24  \n",
       "Nu_Real                  9.36           100.10  "
      ]
     },
     "execution_count": 109,
     "metadata": {},
     "output_type": "execute_result"
    },
    {
     "data": {
      "text/plain": [
       "<Figure size 432x288 with 0 Axes>"
      ]
     },
     "metadata": {},
     "output_type": "display_data"
    }
   ],
   "source": [
    "fig = plt.figure()\n",
    "\n",
    "data_lo = pd.read_csv('./bounds.txt', skiprows=2, delim_whitespace=True, index_col='model')\n",
    "#data_N0_lo = np.loadtxt('./boundsNnu0.txt')\n",
    "data_hi = pd.read_csv('./bounds_upper.txt', skiprows=2, delim_whitespace=True, index_col='model')\n",
    "#data_N0_hi = np.loadtxt('./boundsNnu0_upper.txt')\n",
    "\n",
    "data_lo.head()\n",
    "\n"
   ]
  },
  {
   "cell_type": "code",
   "execution_count": 196,
   "id": "93ee626c",
   "metadata": {},
   "outputs": [
    {
     "name": "stdout",
     "output_type": "stream",
     "text": [
      "./bounds_Nu_Dirac.pdf\n"
     ]
    },
    {
     "data": {
      "image/png": "[encoded data removed]",
      "text/plain": [
       "<Figure size 432x288 with 1 Axes>"
      ]
     },
     "metadata": {
      "needs_background": "light"
     },
     "output_type": "display_data"
    }
   ],
   "source": [
    "model = 'Nu_Dirac'\n",
    "\n",
    "\n",
    "n_rows = len(data_lo.columns)\n",
    "bar_width = 0.5\n",
    "rows = data_lo.columns\n",
    "colors = plt.cm.BuPu(np.linspace(0, 0.5, len(rows)))\n",
    "colors=[cyan]*len(data_lo.columns)\n",
    "#colors = sns.light_palette(\"green\") + sns.light_palette(\"turquoise\") + sns.light_palette(\"blue\")\n",
    "\n",
    "fig1, ax1 = plt.subplots()\n",
    "n_rows = np.array([0,1,2,3,5,6,7])\n",
    "#for row in range(n_rows):\n",
    "for row in n_rows:\n",
    "    ax1.bar(data_lo.columns[row], data_hi.loc[model][row], bar_width, bottom=data_lo.loc[model][row],color=colors[row])\n",
    "    plt.setp(ax1.get_xticklabels(), rotation=45, ha=\"right\",\n",
    "         rotation_mode=\"anchor\",fontsize=18);\n",
    "    ax1.set_ylim(ymax=40)\n",
    "    ax1.set_ylim(ymin=0.)\n",
    "    ax1.set_ylabel(r'dark matter mass [MeV]',fontsize=18)\n",
    "print('./bounds_{}.pdf'.format(model))\n",
    "plt.savefig('./bounds_{}.pdf'.format(model), bbox_inches=\"tight\")\n",
    "\n",
    "\n",
    "#fig1, ax1 = plt.subplots()\n",
    "#data_lo['Planck']\n",
    "#plt.title(model)\n",
    "#ax1.plot(data_lo.columns,data_lo.loc[model],'x')\n",
    "#ax1.plot(data_hi.columns,data_hi.loc[model],'x',color='red')\n",
    "#plt.setp(ax1.get_xticklabels(), rotation=45, ha=\"right\",\n",
    "#         rotation_mode=\"anchor\");\n",
    "#ax1.set_ylim(ymax=40)"
   ]
  },
  {
   "cell_type": "code",
   "execution_count": 195,
   "id": "9e93875e",
   "metadata": {},
   "outputs": [
    {
     "name": "stdout",
     "output_type": "stream",
     "text": [
      "./bounds_Nu_Dirac.pdf\n"
     ]
    },
    {
     "data": {
      "text/plain": [
       "<Figure size 432x288 with 0 Axes>"
      ]
     },
     "metadata": {},
     "output_type": "display_data"
    },
    {
     "data": {
      "image/png": "[encoded data removed]",
      "text/plain": [
       "<Figure size 432x288 with 1 Axes>"
      ]
     },
     "metadata": {
      "needs_background": "light"
     },
     "output_type": "display_data"
    }
   ],
   "source": [
    "fig = plt.figure()\n",
    "\n",
    "data_lo = pd.read_csv('./boundsNnu0.txt', skiprows=2, delim_whitespace=True, index_col='model')\n",
    "#data_N0_lo = np.loadtxt('./boundsNnu0.txt')\n",
    "data_hi = pd.read_csv('./boundsNnu0_upper.txt', skiprows=2, delim_whitespace=True, index_col='model')\n",
    "#data_N0_hi = np.loadtxt('./boundsNnu0_upper.txt')\n",
    "\n",
    "data_lo.head()\n",
    "\n",
    "model = 'Nu_Dirac'\n",
    "\n",
    "\n",
    "n_rows = len(data_lo.columns)\n",
    "bar_width = 0.5\n",
    "rows = data_lo.columns\n",
    "colors = plt.cm.BuPu(np.linspace(0, 0.5, len(rows)))\n",
    "colors=[cyan]*len(data_lo.columns)\n",
    "#colors = sns.light_palette(\"green\") + sns.light_palette(\"turquoise\") + sns.light_palette(\"blue\")\n",
    "\n",
    "fig1, ax1 = plt.subplots()\n",
    "n_rows = np.array([0,1,2,3,5,6,7])\n",
    "#for row in range(n_rows):\n",
    "for row in n_rows:\n",
    "    ax1.bar(data_lo.columns[row], data_hi.loc[model][row], bar_width, bottom=data_lo.loc[model][row],color=colors[row])\n",
    "    plt.setp(ax1.get_xticklabels(), rotation=45, ha=\"right\",\n",
    "         rotation_mode=\"anchor\",fontsize=18);\n",
    "    ax1.set_ylim(ymax=40)\n",
    "    ax1.set_ylim(ymin=0.)\n",
    "    ax1.set_ylabel(r'dark matter mass [MeV]',fontsize=18)\n",
    "print('./bounds_{}.pdf'.format(model))\n",
    "plt.savefig('./boundsNnu0_{}.pdf'.format(model), bbox_inches=\"tight\")\n",
    "\n",
    "\n",
    "#fig1, ax1 = plt.subplots()\n",
    "#data_lo['Planck']\n",
    "#plt.title(model)\n",
    "#ax1.plot(data_lo.columns,data_lo.loc[model],'x')\n",
    "#ax1.plot(data_hi.columns,data_hi.loc[model],'x',color='red')\n",
    "#plt.setp(ax1.get_xticklabels(), rotation=45, ha=\"right\",\n",
    "#         rotation_mode=\"anchor\");\n",
    "#ax1.set_ylim(ymax=40)"
   ]
  },
  {
   "cell_type": "code",
   "execution_count": null,
   "id": "0e2c3441",
   "metadata": {},
   "outputs": [],
   "source": []
  },
  {
   "cell_type": "code",
   "execution_count": null,
   "id": "0cbda3d8",
   "metadata": {},
   "outputs": [],
   "source": []
  }
 ],
 "metadata": {
  "kernelspec": {
   "display_name": "Python 3 (ipykernel)",
   "language": "python",
   "name": "python3"
  },
  "language_info": {
   "codemirror_mode": {
    "name": "ipython",
    "version": 3
   },
   "file_extension": ".py",
   "mimetype": "text/x-python",
   "name": "python",
   "nbconvert_exporter": "python",
   "pygments_lexer": "ipython3",
   "version": "3.9.7"
  }
 },
 "nbformat": 4,
 "nbformat_minor": 5
}
